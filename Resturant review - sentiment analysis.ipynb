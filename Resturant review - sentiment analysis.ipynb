{
 "cells": [
  {
   "cell_type": "markdown",
   "id": "a6b0e3d7",
   "metadata": {},
   "source": [
    "Importing Libraries"
   ]
  },
  {
   "cell_type": "code",
   "execution_count": null,
   "id": "3247e4ca",
   "metadata": {},
   "outputs": [],
   "source": [
    "import numpy as np\n",
    "import pandas as pd\n",
    "import matplotlib.pyplot as plt\n",
    "import seaborn as sns\n",
    "%matplotlib inline\n",
    "# sns.set()"
   ]
  },
  {
   "cell_type": "markdown",
   "id": "f8c2ed4b",
   "metadata": {},
   "source": [
    "### Resturant Reviews | Sentiment Analysis "
   ]
  },
  {
   "cell_type": "markdown",
   "id": "65d6f76f",
   "metadata": {},
   "source": [
    "Dataset Source: https://www.kaggle.com/datasets/maher3id/restaurant-reviewstsv"
   ]
  },
  {
   "cell_type": "code",
   "execution_count": null,
   "id": "57702ea2",
   "metadata": {},
   "outputs": [],
   "source": []
  },
  {
   "cell_type": "markdown",
   "id": "a2b9ccf5",
   "metadata": {},
   "source": [
    " Importing & Inspecting Data"
   ]
  },
  {
   "cell_type": "code",
   "execution_count": null,
   "id": "6e4b3a2d",
   "metadata": {},
   "outputs": [],
   "source": [
    "reviews = pd.read_csv('datasets/restaurant_reviews.tsv', sep='\\t', quoting=3)\n",
    "reviews"
   ]
  },
  {
   "cell_type": "code",
   "execution_count": null,
   "id": "7018bdea",
   "metadata": {},
   "outputs": [],
   "source": [
    "reviews.sample()"
   ]
  },
  {
   "cell_type": "code",
   "execution_count": null,
   "id": "81476ad1",
   "metadata": {},
   "outputs": [],
   "source": [
    "reviews.info()"
   ]
  },
  {
   "cell_type": "code",
   "execution_count": null,
   "id": "fcf4c571",
   "metadata": {},
   "outputs": [],
   "source": []
  },
  {
   "cell_type": "markdown",
   "id": "d4fce451",
   "metadata": {},
   "source": [
    "Exploring Data"
   ]
  },
  {
   "cell_type": "code",
   "execution_count": null,
   "id": "8b21ddbd",
   "metadata": {},
   "outputs": [],
   "source": [
    "reviews['Liked'].value_counts()"
   ]
  },
  {
   "cell_type": "code",
   "execution_count": null,
   "id": "fdec5eca",
   "metadata": {},
   "outputs": [],
   "source": [
    "sns.countplot(x = reviews['Liked'])"
   ]
  },
  {
   "cell_type": "code",
   "execution_count": null,
   "id": "ee8f9b82",
   "metadata": {},
   "outputs": [],
   "source": [
    "reviews['Review Letter Count'] = reviews['Review'].apply(len)"
   ]
  },
  {
   "cell_type": "code",
   "execution_count": null,
   "id": "0494e923",
   "metadata": {},
   "outputs": [],
   "source": [
    "reviews"
   ]
  },
  {
   "cell_type": "code",
   "execution_count": null,
   "id": "ebb7a54b",
   "metadata": {},
   "outputs": [],
   "source": [
    "reviews['Review Letter Count'].max()"
   ]
  },
  {
   "cell_type": "code",
   "execution_count": null,
   "id": "517f6d56",
   "metadata": {},
   "outputs": [],
   "source": [
    "reviews.iloc[reviews['Review Letter Count'].idxmax()]['Review']"
   ]
  },
  {
   "cell_type": "code",
   "execution_count": null,
   "id": "99980076",
   "metadata": {},
   "outputs": [],
   "source": []
  },
  {
   "cell_type": "markdown",
   "id": "dc5f59f4",
   "metadata": {},
   "source": [
    " Pre-processing Data (NLTK Text Data Cleaning)"
   ]
  },
  {
   "cell_type": "code",
   "execution_count": null,
   "id": "5fdeae16",
   "metadata": {},
   "outputs": [],
   "source": [
    "import nltk # Natural Language Toolkit"
   ]
  },
  {
   "cell_type": "code",
   "execution_count": null,
   "id": "8ede4358",
   "metadata": {},
   "outputs": [],
   "source": [
    "# REMOVE PUNCTUATION\n",
    "# import string\n",
    "# string.punctuation"
   ]
  },
  {
   "cell_type": "code",
   "execution_count": null,
   "id": "40bd4f7d",
   "metadata": {},
   "outputs": [],
   "source": [
    "reviews['Review'][0] # the word 'this' is a stopword"
   ]
  },
  {
   "cell_type": "code",
   "execution_count": null,
   "id": "b1b24b80",
   "metadata": {},
   "outputs": [],
   "source": [
    "nltk.download('stopwords')"
   ]
  },
  {
   "cell_type": "code",
   "execution_count": null,
   "id": "3229ab23",
   "metadata": {},
   "outputs": [],
   "source": [
    "from nltk.corpus import stopwords"
   ]
  },
  {
   "cell_type": "code",
   "execution_count": null,
   "id": "73b44db5",
   "metadata": {},
   "outputs": [],
   "source": [
    "print(stopwords.words('english'))"
   ]
  },
  {
   "cell_type": "code",
   "execution_count": null,
   "id": "df40dcc9",
   "metadata": {},
   "outputs": [],
   "source": [
    "s = reviews['Review'][0]\n",
    "s"
   ]
  },
  {
   "cell_type": "code",
   "execution_count": null,
   "id": "50f21f97",
   "metadata": {},
   "outputs": [],
   "source": [
    "import re\n",
    "s = re.sub('[^a-zA-Z]', ' ', s)\n",
    "s"
   ]
  },
  {
   "cell_type": "code",
   "execution_count": null,
   "id": "6f16c090",
   "metadata": {},
   "outputs": [],
   "source": [
    "s = s.lower()\n",
    "s"
   ]
  },
  {
   "cell_type": "code",
   "execution_count": null,
   "id": "7d96834b",
   "metadata": {},
   "outputs": [],
   "source": [
    "s = s.split()\n",
    "s"
   ]
  },
  {
   "cell_type": "code",
   "execution_count": null,
   "id": "d621e671",
   "metadata": {},
   "outputs": [],
   "source": [
    "temp = []\n",
    "for word in s:\n",
    "    if word not in stopwords.words('english'):\n",
    "        temp.append(word)\n",
    "print(temp)"
   ]
  },
  {
   "cell_type": "code",
   "execution_count": null,
   "id": "61320128",
   "metadata": {},
   "outputs": [],
   "source": [
    "s = [word for word in s if word not in stopwords.words('english')]\n",
    "s"
   ]
  },
  {
   "cell_type": "code",
   "execution_count": null,
   "id": "6caf1237",
   "metadata": {},
   "outputs": [],
   "source": [
    "s = ' '.join(s)\n",
    "s"
   ]
  },
  {
   "cell_type": "code",
   "execution_count": null,
   "id": "5e9f20ab",
   "metadata": {},
   "outputs": [],
   "source": [
    "from nltk.stem import PorterStemmer\n",
    "ps = PorterStemmer()\n",
    "s = ps.stem(s)\n",
    "s"
   ]
  },
  {
   "cell_type": "code",
   "execution_count": null,
   "id": "025c5fd1",
   "metadata": {},
   "outputs": [],
   "source": [
    "# Bring it all together\n",
    "\n",
    "corpus = []\n",
    "pstem = PorterStemmer()\n",
    "\n",
    "for i in range(len(reviews)):\n",
    "    sentence = re.sub('[^a-zA-Z]', ' ', reviews['Review'][i])\n",
    "    sentence = sentence.lower()\n",
    "    sentence = sentence.split()\n",
    "    sentence = [pstem.stem(word) for word in sentence if word not in stopwords.words('english')]\n",
    "    sentence = ' '.join(sentence)\n",
    "    \n",
    "    corpus.append(sentence)\n",
    "\n",
    "# print(corpus)"
   ]
  },
  {
   "cell_type": "code",
   "execution_count": null,
   "id": "d981b9ad",
   "metadata": {},
   "outputs": [],
   "source": [
    "corpus"
   ]
  },
  {
   "cell_type": "code",
   "execution_count": null,
   "id": "27e39a58",
   "metadata": {},
   "outputs": [],
   "source": [
    "from sklearn.feature_extraction.text import CountVectorizer"
   ]
  },
  {
   "cell_type": "code",
   "execution_count": null,
   "id": "5007e7cc",
   "metadata": {},
   "outputs": [],
   "source": [
    "cv = CountVectorizer(max_features=2000)"
   ]
  },
  {
   "cell_type": "code",
   "execution_count": null,
   "id": "3bac7a39",
   "metadata": {},
   "outputs": [],
   "source": [
    "X = cv.fit_transform(corpus).toarray()\n",
    "X"
   ]
  },
  {
   "cell_type": "code",
   "execution_count": null,
   "id": "a5642ef8",
   "metadata": {},
   "outputs": [],
   "source": [
    "X.shape"
   ]
  },
  {
   "cell_type": "code",
   "execution_count": null,
   "id": "abdff9a3",
   "metadata": {},
   "outputs": [],
   "source": [
    "y = reviews['Liked']\n",
    "y"
   ]
  },
  {
   "cell_type": "code",
   "execution_count": null,
   "id": "a81c8009",
   "metadata": {},
   "outputs": [],
   "source": [
    "from sklearn.model_selection import train_test_split\n",
    "X_train, X_test, y_train, y_test = train_test_split(X, y, test_size=0.33, random_state=42)"
   ]
  },
  {
   "cell_type": "code",
   "execution_count": null,
   "id": "2dd79adf",
   "metadata": {},
   "outputs": [],
   "source": []
  },
  {
   "cell_type": "markdown",
   "id": "4eca46d4",
   "metadata": {},
   "source": [
    " Model Training & Building "
   ]
  },
  {
   "cell_type": "code",
   "execution_count": null,
   "id": "60a8e019",
   "metadata": {},
   "outputs": [],
   "source": [
    "from sklearn.naive_bayes import MultinomialNB # Try GaussianNB"
   ]
  },
  {
   "cell_type": "code",
   "execution_count": null,
   "id": "01d181b8",
   "metadata": {},
   "outputs": [],
   "source": [
    "clf = MultinomialNB()"
   ]
  },
  {
   "cell_type": "code",
   "execution_count": null,
   "id": "4efbccc7",
   "metadata": {},
   "outputs": [],
   "source": [
    "clf.fit(X_train, y_train)"
   ]
  },
  {
   "cell_type": "code",
   "execution_count": null,
   "id": "1ca8debc",
   "metadata": {},
   "outputs": [],
   "source": []
  },
  {
   "cell_type": "markdown",
   "id": "34417842",
   "metadata": {},
   "source": [
    "Model Prediction"
   ]
  },
  {
   "cell_type": "code",
   "execution_count": null,
   "id": "f54286f7",
   "metadata": {},
   "outputs": [],
   "source": [
    "y_pred = clf.predict(X_test)\n",
    "y_pred"
   ]
  },
  {
   "cell_type": "code",
   "execution_count": null,
   "id": "5574e5e7",
   "metadata": {},
   "outputs": [],
   "source": []
  },
  {
   "cell_type": "markdown",
   "id": "a0111e0c",
   "metadata": {},
   "source": [
    "Model Evaluation"
   ]
  },
  {
   "cell_type": "code",
   "execution_count": null,
   "id": "c9dff902",
   "metadata": {},
   "outputs": [],
   "source": [
    "from sklearn.metrics import confusion_matrix, classification_report, accuracy_score"
   ]
  },
  {
   "cell_type": "code",
   "execution_count": null,
   "id": "ab74843c",
   "metadata": {},
   "outputs": [],
   "source": [
    "print(accuracy_score(y_test, y_pred))"
   ]
  },
  {
   "cell_type": "code",
   "execution_count": null,
   "id": "4541ca7b",
   "metadata": {},
   "outputs": [],
   "source": [
    "print(confusion_matrix(y_test, y_pred))"
   ]
  },
  {
   "cell_type": "code",
   "execution_count": null,
   "id": "0da27abb",
   "metadata": {},
   "outputs": [],
   "source": [
    "print(classification_report(y_test, y_pred))"
   ]
  },
  {
   "cell_type": "code",
   "execution_count": null,
   "id": "f25c207e",
   "metadata": {},
   "outputs": [],
   "source": []
  },
  {
   "cell_type": "markdown",
   "id": "dccbb431",
   "metadata": {},
   "source": [
    "Model Deployment & Production"
   ]
  },
  {
   "cell_type": "code",
   "execution_count": null,
   "id": "59ce2087",
   "metadata": {},
   "outputs": [],
   "source": [
    "import joblib"
   ]
  },
  {
   "cell_type": "code",
   "execution_count": null,
   "id": "835abf58",
   "metadata": {},
   "outputs": [],
   "source": [
    "joblib.dump(clf, 'reviews.pkl')"
   ]
  },
  {
   "cell_type": "code",
   "execution_count": null,
   "id": "a3cab85c",
   "metadata": {},
   "outputs": [],
   "source": []
  }
 ],
 "metadata": {
  "kernelspec": {
   "display_name": "Python 3 (ipykernel)",
   "language": "python",
   "name": "python3"
  },
  "language_info": {
   "codemirror_mode": {
    "name": "ipython",
    "version": 3
   },
   "file_extension": ".py",
   "mimetype": "text/x-python",
   "name": "python",
   "nbconvert_exporter": "python",
   "pygments_lexer": "ipython3",
   "version": "3.9.7"
  }
 },
 "nbformat": 4,
 "nbformat_minor": 5
}
